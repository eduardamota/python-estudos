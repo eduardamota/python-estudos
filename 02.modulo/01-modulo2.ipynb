{
 "cells": [
  {
   "cell_type": "code",
   "execution_count": 5,
   "id": "8e0a733b-7f4c-4163-a304-6ebe7846bb47",
   "metadata": {},
   "outputs": [],
   "source": [
    "import numpy as np\n",
    "import random"
   ]
  },
  {
   "cell_type": "code",
   "execution_count": 6,
   "id": "5e47c5ea-b603-447b-b800-f141127977f8",
   "metadata": {},
   "outputs": [],
   "source": [
    "lista = [8, 12, 54, 23, 43, 1, 90, 87, 105, 77]"
   ]
  },
  {
   "cell_type": "code",
   "execution_count": 8,
   "id": "56da71b8-d18c-4361-9bea-089ad5d6ff93",
   "metadata": {},
   "outputs": [
    {
     "data": {
      "text/plain": [
       "90"
      ]
     },
     "execution_count": 8,
     "metadata": {},
     "output_type": "execute_result"
    }
   ],
   "source": [
    "random.choice(lista)"
   ]
  },
  {
   "cell_type": "code",
   "execution_count": 15,
   "id": "0fcd6424-c42b-4eac-83d0-abd118ca8590",
   "metadata": {},
   "outputs": [
    {
     "data": {
      "text/plain": [
       "99"
      ]
     },
     "execution_count": 15,
     "metadata": {},
     "output_type": "execute_result"
    }
   ],
   "source": [
    "random.randint(1, 99)"
   ]
  },
  {
   "cell_type": "code",
   "execution_count": 17,
   "id": "415557d4-81a2-4d43-b5c2-77bfd487d82d",
   "metadata": {},
   "outputs": [
    {
     "name": "stdin",
     "output_type": "stream",
     "text": [
      "Digite o número base:  2\n",
      "Digite o número expoente:  3\n"
     ]
    },
    {
     "name": "stdout",
     "output_type": "stream",
     "text": [
      "O resultado de 2 elevado a 3 é: 8.0\n"
     ]
    }
   ],
   "source": [
    "import math\n",
    "numero_base = int(input(\"Digite o número base: \"))\n",
    "numero_expoente = int(input(\"Digite o número expoente: \"))\n",
    "resultado = math.pow(numero_base, numero_expoente)\n",
    "print(f\"O resultado de {numero_base} elevado a {numero_expoente} é: {resultado}\")"
   ]
  },
  {
   "cell_type": "markdown",
   "id": "a79b9e68-0e20-4652-9694-86e954ecba53",
   "metadata": {},
   "source": [
    "**1.** Um programa deve ser escrito para sortear uma pessoa seguidora de uma rede social para ganhar um prêmio. A lista de participantes é numerada e devemos escolher aleatoriamente um número de acordo com a quantidade de participantes. Peça à pessoa usuária para fornecer o número de participantes do sorteio e devolva para ela o número sorteado."
   ]
  },
  {
   "cell_type": "code",
   "execution_count": 24,
   "id": "5e421c5e-9960-4435-a169-a2cc6227201e",
   "metadata": {},
   "outputs": [
    {
     "name": "stdin",
     "output_type": "stream",
     "text": [
      "Digite o número de pessoas que estão participando do sorteio 8\n"
     ]
    },
    {
     "name": "stdout",
     "output_type": "stream",
     "text": [
      "O número sorteado foi: 4\n"
     ]
    }
   ],
   "source": [
    "numero = int(input(\"Digite o número de pessoas que estão participando do sorteio\"))\n",
    "print(f\"O número sorteado foi: {random.randint(1,numero)}\")"
   ]
  },
  {
   "cell_type": "markdown",
   "id": "4ef2191c-167d-4e6e-b237-5c5d72570b24",
   "metadata": {},
   "source": [
    "**2.** Você recebeu uma demanda para gerar números de token para acessar o aplicativo de uma empresa. O token precisa ser par e variar de 1000 até 9998. Escreva um código que solicita à pessoa usuária o seu nome e exibe uma mensagem junto a esse token gerado aleatoriamente"
   ]
  },
  {
   "cell_type": "code",
   "execution_count": 26,
   "id": "cdc6ba4e-4550-4c24-b9eb-d09e74e687fd",
   "metadata": {},
   "outputs": [
    {
     "name": "stdin",
     "output_type": "stream",
     "text": [
      "Digite seu nome:  duda\n"
     ]
    },
    {
     "name": "stdout",
     "output_type": "stream",
     "text": [
      "Olá, duda, o seu token de acesso é 1978! Seja bem-vindo(a)!\n"
     ]
    }
   ],
   "source": [
    "def gerar_token_par():\n",
    "    token = random.randint(500, 4999) * 2\n",
    "    return token\n",
    "\n",
    "nome = input(\"Digite seu nome: \")\n",
    "token = gerar_token_par()\n",
    "print(f\"Olá, {nome}, o seu token de acesso é {token}! Seja bem-vindo(a)!\")"
   ]
  },
  {
   "cell_type": "markdown",
   "id": "1f576ea1-00fa-4e59-8a84-c267d3ec4d5f",
   "metadata": {},
   "source": [
    "**3.** Para diversificar e atrair novos(as) clientes, uma lanchonete criou um item misterioso em seu cardápio chamado \"salada de frutas surpresa\". Neste item, são escolhidas aleatoriamente 3 frutas de uma lista de 12 para compor a salada de frutas da pessoa cliente. Crie o código que faça essa seleção aleatória de acordo com a lista abaixo:"
   ]
  },
  {
   "cell_type": "code",
   "execution_count": 33,
   "id": "6758e112-f693-4132-989c-e2c548042c24",
   "metadata": {},
   "outputs": [
    {
     "data": {
      "text/plain": [
       "['uva', 'manga', 'abacaxi']"
      ]
     },
     "execution_count": 33,
     "metadata": {},
     "output_type": "execute_result"
    }
   ],
   "source": [
    "frutas = [\"maçã\", \"banana\", \"uva\", \"pêra\", \n",
    "          \"manga\", \"coco\", \"melancia\", \"mamão\",\n",
    "          \"laranja\", \"abacaxi\", \"kiwi\", \"ameixa\"]\n",
    "random.sample(frutas,3)"
   ]
  },
  {
   "cell_type": "markdown",
   "id": "0b3a9f05-a3b5-4f67-8bef-fc4516b6508e",
   "metadata": {},
   "source": [
    "### Funções"
   ]
  },
  {
   "cell_type": "code",
   "execution_count": 36,
   "id": "433906dc-0b14-4a4a-b5ed-212cc5097252",
   "metadata": {},
   "outputs": [],
   "source": [
    "def media():\n",
    "    calculo = (10+9+8)/3\n",
    "    print(calculo)\n",
    "               "
   ]
  },
  {
   "cell_type": "code",
   "execution_count": 37,
   "id": "d0ed4d86-b241-4cec-ad57-6edf972f6277",
   "metadata": {},
   "outputs": [
    {
     "name": "stdout",
     "output_type": "stream",
     "text": [
      "9.0\n"
     ]
    }
   ],
   "source": [
    "media()"
   ]
  },
  {
   "cell_type": "code",
   "execution_count": 38,
   "id": "72208b65-36e4-43eb-88d0-bcc691b4f648",
   "metadata": {},
   "outputs": [],
   "source": [
    "def media(nota_1,nota_2,nota_3):\n",
    "    calculo = (nota_1+nota_2+nota_3)/3\n",
    "    print(calculo)"
   ]
  },
  {
   "cell_type": "code",
   "execution_count": 39,
   "id": "292de193-d311-4e6c-8e71-cc5e5676fa00",
   "metadata": {},
   "outputs": [
    {
     "name": "stdout",
     "output_type": "stream",
     "text": [
      "6.0\n"
     ]
    }
   ],
   "source": [
    "media(3,6,9)"
   ]
  },
  {
   "cell_type": "markdown",
   "id": "07d16f27-273c-45cc-8d1f-f1b09c1865a4",
   "metadata": {},
   "source": [
    "## Funções"
   ]
  },
  {
   "cell_type": "markdown",
   "id": "b443374b-9b6f-4ca5-90fd-843d66e43426",
   "metadata": {},
   "source": [
    "1. Escreva um código que lê a lista abaixo e faça:"
   ]
  },
  {
   "cell_type": "code",
   "execution_count": 41,
   "id": "7264a9c5-d70f-4207-8525-2b26372f911a",
   "metadata": {},
   "outputs": [],
   "source": [
    "lista = [16, 14, 63, 65, 17, 99, 70, 11, 20, 48, 79, 32, 17, 89, 12, 25, 66]"
   ]
  },
  {
   "cell_type": "code",
   "execution_count": 42,
   "id": "85be602d-2d3a-4423-90f1-60caa03d92da",
   "metadata": {},
   "outputs": [],
   "source": [
    "def estrutura_lista (lista):\n",
    "    tamanho = len(lista)\n",
    "    maior_valor = max(lista)\n",
    "    menor_valor = min(lista)\n",
    "    soma = sum(lista)\n",
    "    return tamanho, maior_valor, menor_valor, soma"
   ]
  },
  {
   "cell_type": "code",
   "execution_count": 52,
   "id": "26447ccf-a7cf-4e46-94a0-cc2fe0702201",
   "metadata": {},
   "outputs": [
    {
     "name": "stdout",
     "output_type": "stream",
     "text": [
      "A lista possui 17 números em que o maior número é 99 e o menor número é 11. A soma dos valores presentes nela é igual a 743\n"
     ]
    }
   ],
   "source": [
    "print(f\"A lista possui {estrutura_lista(lista)[0]} números \"\n",
    "      f\"em que o maior número é {estrutura_lista(lista)[1]} \"\n",
    "      f\"e o menor número é {estrutura_lista(lista)[2]}. \"\n",
    "      f\"A soma dos valores presentes nela é igual a {estrutura_lista(lista)[3]}\")"
   ]
  },
  {
   "cell_type": "markdown",
   "id": "eeb46c04-9107-4d37-96b3-6668bbad88b9",
   "metadata": {},
   "source": [
    "2. Escreva uma função que gere a tabuada de um número inteiro de 1 a 10, de acordo com a escolha da pessoa usuária. Como exemplo, para o número 7, a tabuada deve ser mostrada no seguinte formato:"
   ]
  },
  {
   "cell_type": "code",
   "execution_count": 58,
   "id": "f62cec60-5bda-4d2e-ac9f-9ac737efd067",
   "metadata": {
    "scrolled": true
   },
   "outputs": [
    {
     "name": "stdin",
     "output_type": "stream",
     "text": [
      "Escolha um número entre 1-10 para gerar a tabuada:  7\n"
     ]
    },
    {
     "name": "stdout",
     "output_type": "stream",
     "text": [
      "7 x 0 = 0\n",
      "7 x 1 = 7\n",
      "7 x 2 = 14\n",
      "7 x 3 = 21\n",
      "7 x 4 = 28\n",
      "7 x 5 = 35\n",
      "7 x 6 = 42\n",
      "7 x 7 = 49\n",
      "7 x 8 = 56\n",
      "7 x 9 = 63\n",
      "7 x 10 = 70\n"
     ]
    }
   ],
   "source": [
    "def tabuada(x):\n",
    "    for i in range(11):\n",
    "        print(f\"{x} x {i} = {x * i}\")\n",
    "\n",
    "numero = int(input(\"Escolha um número entre 1-10 para gerar a tabuada: \"))\n",
    "tabuada(numero)\n"
   ]
  },
  {
   "cell_type": "markdown",
   "id": "204cb02e-2cff-49f0-aeb9-fc89bcf2d98c",
   "metadata": {},
   "source": [
    "3. Crie a função que leia a lista abaixo e retorne uma nova lista com os múltiplos de 3:"
   ]
  },
  {
   "cell_type": "code",
   "execution_count": 60,
   "id": "2ace8f2c-8a79-4122-9efc-ced3a9370b5a",
   "metadata": {},
   "outputs": [
    {
     "name": "stdout",
     "output_type": "stream",
     "text": [
      "[24, 99]\n"
     ]
    }
   ],
   "source": [
    "def multiplo(lista):\n",
    "    return [x for x in lista if x % 3 == 0]\n",
    "lista = [97, 80, 94, 88, 80, 1, 16, 53, 62, 32, 24, 99]\n",
    "mult_3 = multiplo(lista)\n",
    "print(mult_3)"
   ]
  },
  {
   "cell_type": "markdown",
   "id": "ba02a703-623b-4bab-ace6-fa8c7853bdfc",
   "metadata": {},
   "source": [
    "4. Crie uma lista dos quadrados dos números da seguinte lista [1, 2, 3, 4, 5, 6, 7, 8, 9, 10]. Lembre-se de utilizar as funções lambda e map() para calcular o quadrado de cada elemento da lista."
   ]
  },
  {
   "cell_type": "code",
   "execution_count": 62,
   "id": "e093a4c2-7ddb-4346-8ce4-a165926ffff7",
   "metadata": {},
   "outputs": [
    {
     "data": {
      "text/plain": [
       "[1, 4, 9, 16, 25, 36, 49, 64, 81, 100]"
      ]
     },
     "execution_count": 62,
     "metadata": {},
     "output_type": "execute_result"
    }
   ],
   "source": [
    "lista = [1, 2, 3, 4, 5, 6, 7, 8, 9, 10]\n",
    "quadrados = map(lambda x: x**2,lista)\n",
    "list(quadrados)"
   ]
  },
  {
   "cell_type": "markdown",
   "id": "20762f03-ba7e-42cb-95ac-988946fededc",
   "metadata": {},
   "source": [
    "5. Você foi contratado(a) como cientista de dados de uma associação de skate. Para analisar as notas recebidas de skatistas em algumas competições ao longo do ano, você precisa criar um código que calcula a pontuação dos(as) atletas. Para isso, o seu código deve receber 5 notas digitadas pelas pessoas juradas.\n",
    "\n",
    "   \n",
    "    Para calcular a pontuação de um(a) skatista, você precisa eliminar a maior e a menor pontuação dentre as 5 notas e tirar a média das 3 notas que sobraram. Retorne a média para apresentar o texto:\r\n",
    "\r\n",
    "\"Nota da manobra: [media]\""
   ]
  },
  {
   "cell_type": "code",
   "execution_count": 63,
   "id": "262d72e9-7aa5-43b8-8122-2f5afd6e6be7",
   "metadata": {},
   "outputs": [
    {
     "name": "stdin",
     "output_type": "stream",
     "text": [
      "Digite a primeira nota:  8\n",
      "Digite a segunda nota:  7\n",
      "Digite a terceira nota:  10\n",
      "Digite a quarta nota:  5\n",
      "Digite a quinta nota:  6\n"
     ]
    },
    {
     "name": "stdout",
     "output_type": "stream",
     "text": [
      "Nota da manobra: 7.0\n"
     ]
    }
   ],
   "source": [
    "def media (n1,n2,n3,n4,n5):\n",
    "    maior = max(n1,n2,n3,n4,n5)\n",
    "    menor = min(n1,n2,n3,n4,n5)\n",
    "    return (n1 + n2 + n3 + n4 + n5 - maior - menor)/3\n",
    "\n",
    "N1 = int(input(\"Digite a primeira nota: \"))\n",
    "N2 = int(input(\"Digite a segunda nota: \"))\n",
    "N3 = int(input(\"Digite a terceira nota: \"))\n",
    "N4 = int(input(\"Digite a quarta nota: \"))\n",
    "N5 = int(input(\"Digite a quinta nota: \"))\n",
    "\n",
    "print(f\"Nota da manobra: {media(N1,N2,N3,N4,N5)}\")"
   ]
  },
  {
   "cell_type": "markdown",
   "id": "150a3e9f-50f0-4a9f-9c15-1e47167d826b",
   "metadata": {},
   "source": [
    "6. Para atender a uma demanda de uma instituição de ensino para a análise do desempenho de seus(suas) estudantes, você precisa criar uma função que receba uma lista de 4 notas e retorne:\n",
    "\n",
    "- maior nota\n",
    "- menor nota\n",
    "- média\n",
    "- situação (Aprovado(a) ou Reprovado(a))\n",
    "\n",
    "Para testar o comportamento da função, os dados podem ser exibidos em um texto:\n",
    "\"O(a) estudante obteve uma média de [media], com a sua maior nota de [maior] pontos e a menor nota de [menor] pontos e foi [situacao]\"\r\n"
   ]
  },
  {
   "cell_type": "code",
   "execution_count": 75,
   "id": "4f786e60-8694-4001-b348-51824b3ec7b2",
   "metadata": {},
   "outputs": [
    {
     "name": "stdin",
     "output_type": "stream",
     "text": [
      "Digite a nota 1:  10\n",
      "Digite a nota 2:  7\n",
      "Digite a nota 3:  8\n",
      "Digite a nota 4:  5\n"
     ]
    },
    {
     "name": "stdout",
     "output_type": "stream",
     "text": [
      "O(a) estudante obteve uma média de 7.5, com a sua maior nota de 10.0 pontos e a menor nota de 5.0 pontos e foi APROVADO(A)\n"
     ]
    }
   ],
   "source": [
    "def desempenho ():\n",
    "    notas = []\n",
    "    for i in range(4):\n",
    "        notas.append(float(input(f\"Digite a nota {i+1}: \")))\n",
    "        \n",
    "    menor = min(notas)\n",
    "    maior = max(notas)\n",
    "    media = sum(notas) / len(notas)\n",
    "    \n",
    "    if media > 6:\n",
    "        situacao = 'APROVADO(A)'\n",
    "    else:\n",
    "        situacao = 'REPROVADO(A)'\n",
    "        \n",
    "    return menor, maior, media, situacao\n",
    "    \n",
    "menor, maior, media, situacao = desempenho()\n",
    "print(f\"O(a) estudante obteve uma média de {media}, com a sua maior nota de {maior} pontos e a menor nota de {menor} pontos e foi {situacao}\")"
   ]
  },
  {
   "cell_type": "markdown",
   "id": "77da1131-7dd1-4f7b-8c4c-f94748e550c3",
   "metadata": {},
   "source": [
    "7. Você recebeu uma demanda para tratar 2 listas com os nomes e sobrenomes de cada estudante concatenando-as para apresentar seus nomes completos na forma Nome Sobrenome. As listas são:\n",
    "\n",
    "- nomes = [\"joão\", \"MaRia\", \"JOSÉ\"]\r",
    "- \n",
    "sobrenomes = [\"SILVA\", \"souza\", \"Tavares\"]\r\n"
   ]
  },
  {
   "cell_type": "code",
   "execution_count": 79,
   "id": "5c0aade2-4688-4ef8-8ae9-9a8edee1705a",
   "metadata": {},
   "outputs": [
    {
     "name": "stdout",
     "output_type": "stream",
     "text": [
      "['João Silva', 'Maria Souza', 'José Tavares']\n"
     ]
    }
   ],
   "source": [
    "nomes = [\"joão\", \"MaRia\", \"JOSÉ\"]\n",
    "sobrenomes = [\"SILVA\", \"souza\", \"Tavares\"]\n",
    "\n",
    "nome_tratado = map(lambda x: x[0].upper() + x[1:].lower(),nomes)\n",
    "sobrenome_tratado = map(lambda x: x[0].upper() + x[1:].lower(),sobrenomes)\n",
    "\n",
    "nome_completo = [n + \" \" + s for n, s in zip(nome_tratado, sobrenome_tratado)]\n",
    "print(nome_completo)"
   ]
  },
  {
   "cell_type": "markdown",
   "id": "0ce9e2e9-ea57-4c12-83ad-107c5e1d0789",
   "metadata": {},
   "source": [
    "8. Como cientista de dados em um time de futebol, você precisa implementar novas formas de coleta de dados sobre o desempenho de jogadores e do time como um todo. Sua primeira ação é criar uma forma de calcular a pontuação do time no campeonato nacional a partir dos dados de gols marcados e sofridos em cada jogo.\r\n",
    "\r\n",
    "Escreva uma função chamada calcula_pontos que recebe como parâmetros duas listas de números inteiros, representando os gols marcados e sofridos pelo time em cada partida do campeonato. A função deve retornar a pontuação do time e o aproveitamento em percentual, levando em consideração que a vitória vale 3 pontos, o empate vale 1 ponto e a derrota 0 pontos."
   ]
  },
  {
   "cell_type": "code",
   "execution_count": 98,
   "id": "fcbc93c5-4c63-48c7-8ec0-a3fe53626ec6",
   "metadata": {},
   "outputs": [
    {
     "name": "stdout",
     "output_type": "stream",
     "text": [
      "Pontuação do time: 7 pontos\n",
      "Aproveitamento do time: 46.67%\n"
     ]
    }
   ],
   "source": [
    "def calcula_pontos(gols_marcados, gols_sofridos):\n",
    "    pontos = 0\n",
    "    jogos = len(gols_marcados)\n",
    "    \n",
    "    for i in range(jogos):\n",
    "        if gols_marcados[i] > gols_sofridos[i]:\n",
    "            pontos += 3\n",
    "        elif gols_marcados[i] == gols_sofridos[i]:\n",
    "            pontos += 1\n",
    "\n",
    "    aproveitamento = (pontos / (3 * jogos)) * 100\n",
    "    return pontos, aproveitamento\n",
    "\n",
    "# Teste da função com os dados fornecidos\n",
    "gols_marcados = [2, 1, 3, 1, 0]\n",
    "gols_sofridos = [1, 2, 2, 1, 3]\n",
    "\n",
    "pontuacao, aproveitamento = calcula_pontos(gols_marcados, gols_sofridos)\n",
    "print(f\"Pontuação do time: {pontuacao} pontos\")\n",
    "print(f\"Aproveitamento do time: {aproveitamento:.2f}%\")\n"
   ]
  },
  {
   "cell_type": "markdown",
   "id": "f04abd05-633d-4a73-b37c-c9d0d50b460a",
   "metadata": {},
   "source": [
    "9. Você recebeu o desafio de criar um código que calcula os gastos de uma viagem para um das quatro cidades partindo de Recife, sendo elas: Salvador, Fortaleza, Natal e Aracaju.\r\n",
    "\r\n",
    "O custo da diária do hotel é de 150 reais em todas elas e o consumo de gasolina na viagem de carro é de 14 km/l, sendo que o valor da gasolina é de 5 reais o litro. O gastos com passeios e alimentação a se fazer em cada uma delas por dia seria de [200, 400, 250, 300], respectivamente.\r\n",
    "\r\n",
    "Sabendo que as distâncias entre Recife e cada uma das cidades é de aproximadamente [850, 800, 300, 550] km, crie três funções nas quais: a 1ª função calcule os gastos com hotel (gasto_hotel), a 2ª calcule os gastos com a gasolina (gasto_gasolina) e a 3ª os gastos com passeio e alimentação (gasto_passeio).\r\n",
    "\r\n",
    "Para testar, simule uma viagem de 3 dias para Salvador partindo de Recife. Considere a viagem de ida e volta de carro."
   ]
  },
  {
   "cell_type": "code",
   "execution_count": 105,
   "id": "20edf20f-6754-4f01-9ad7-d10d51178c28",
   "metadata": {},
   "outputs": [
    {
     "name": "stdin",
     "output_type": "stream",
     "text": [
      "Informe o número de dias:  3\n",
      "Qual a cidade de escolha:  Salvador\n"
     ]
    },
    {
     "name": "stdout",
     "output_type": "stream",
     "text": [
      "Com base nos gastos definidos, uma viagem de 3 dias para Salvador saindo de Recife custaria 1353.57 reais\n"
     ]
    }
   ],
   "source": [
    "def gastos_hotel (dias):\n",
    "    return dias*150\n",
    "\n",
    "def gastos_gasolina(cidade):\n",
    "    gastos=0\n",
    "    if cidade == 'Salvador':\n",
    "        gastos+= (850/14)*5\n",
    "    elif cidade == 'Fortaleza':\n",
    "        gastos+= (800/14)*5\n",
    "    elif cidade == 'Natal':\n",
    "        gastos+= (300/14)*5\n",
    "    elif cidade == 'Aracaju':\n",
    "        gastos+= (550/14)*5\n",
    "    return gastos\n",
    "\n",
    "def gastos_alimentacao (cidade,dias):\n",
    "    gastos=0\n",
    "    if cidade == 'Salvador':\n",
    "        gastos+= 200*dias\n",
    "    elif cidade == 'Fortaleza':\n",
    "        gastos+= 400*dias\n",
    "    elif cidade == 'Natal':\n",
    "        gastos+= 250*dias\n",
    "    elif cidade == 'Aracaju':\n",
    "        gastos+= 300*dias\n",
    "    return gastos\n",
    "\n",
    "dias = int(input(\"Informe o número de dias: \"))\n",
    "cidade = input(\"Qual a cidade de escolha: \")\n",
    "\n",
    "print(f\"Com base nos gastos definidos, uma viagem de {dias} dias para {cidade} saindo de Recife \"\n",
    "      f\"custaria {gastos_hotel (dias) + gastos_alimentacao (cidade,dias) + gastos_gasolina(cidade):.2f} reais\")"
   ]
  },
  {
   "cell_type": "markdown",
   "id": "49911212-bae2-4486-b5cf-db922ade5982",
   "metadata": {},
   "source": [
    "10. Você iniciou um estágio em uma empresa que trabalha com processamento de linguagem natural (NLP). Sua líder requisitou que você criasse um trecho de código que recebe uma frase digitada pela pessoa usuária e filtre apenas as palavras com tamanho maior ou igual a 5, exibindo-as em uma lista. Essa demanda é voltada para a análise do padrão de comportamento de pessoas na escrita de palavras acima dessa quantidade de caracteres."
   ]
  },
  {
   "cell_type": "code",
   "execution_count": 111,
   "id": "cf7c78aa-e7a5-47b8-9cb1-d23e05ed999a",
   "metadata": {},
   "outputs": [
    {
     "name": "stdin",
     "output_type": "stream",
     "text": [
      "Digite uma frase:  Aprender Python aqui na Alura é muito bom!\n"
     ]
    },
    {
     "name": "stdout",
     "output_type": "stream",
     "text": [
      "['Aprender', 'Python']\n"
     ]
    }
   ],
   "source": [
    "frase = input(\"Digite uma frase: \")\n",
    "palavras = frase.split()  # Divide a frase em palavras\n",
    "palavras_5letras = list(filter(lambda x: len(x) > 5, palavras))\n",
    "\n",
    "palavras_5letras = [palavra.replace(',', '.').replace('!', '.').replace('?', '.') for palavra in palavras_5letras]\n",
    "\n",
    "print(palavras_5letras)\n"
   ]
  }
 ],
 "metadata": {
  "kernelspec": {
   "display_name": "Python 3 (ipykernel)",
   "language": "python",
   "name": "python3"
  },
  "language_info": {
   "codemirror_mode": {
    "name": "ipython",
    "version": 3
   },
   "file_extension": ".py",
   "mimetype": "text/x-python",
   "name": "python",
   "nbconvert_exporter": "python",
   "pygments_lexer": "ipython3",
   "version": "3.12.1"
  }
 },
 "nbformat": 4,
 "nbformat_minor": 5
}

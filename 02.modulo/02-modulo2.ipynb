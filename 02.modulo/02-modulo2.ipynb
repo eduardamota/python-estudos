{
 "cells": [
  {
   "cell_type": "markdown",
   "id": "021a0a3c-1725-4186-b23a-afb882ae291f",
   "metadata": {},
   "source": [
    "1. Crie um código para imprimir a soma dos elementos de cada uma das listas contidas na seguinte lista:"
   ]
  },
  {
   "cell_type": "code",
   "execution_count": 1,
   "id": "fceaef81-4e63-4b2e-8940-ac250928b0a8",
   "metadata": {},
   "outputs": [],
   "source": [
    "lista_de_listas = [[4,6,5,9], [1,0,7,2], [3,4,1,8]]"
   ]
  },
  {
   "cell_type": "code",
   "execution_count": 4,
   "id": "db8fa5d0-4e55-4b19-9fae-631bab43f195",
   "metadata": {
    "scrolled": true
   },
   "outputs": [
    {
     "data": {
      "text/plain": [
       "[24, 10, 16]"
      ]
     },
     "execution_count": 4,
     "metadata": {},
     "output_type": "execute_result"
    }
   ],
   "source": [
    "soma = [sum(i) for i in lista_de_listas]\n",
    "soma"
   ]
  },
  {
   "cell_type": "markdown",
   "id": "0c9854f1-0817-4b0f-bd53-92a9f0a06abd",
   "metadata": {},
   "source": [
    "2. Crie um código para gerar uma lista que armazena o terceiro elemento de cada tupla contida na seguinte lista de tuplas:"
   ]
  },
  {
   "cell_type": "code",
   "execution_count": 6,
   "id": "23210cc8-cc6f-4670-9a52-c688dc67db91",
   "metadata": {},
   "outputs": [],
   "source": [
    "lista_de_tuplas = [('Pedro', 1.74, 81), ('Júlia', 1.65, 67), ('Otávio', 1.81, 83)]"
   ]
  },
  {
   "cell_type": "code",
   "execution_count": 8,
   "id": "ccf697a1-0cf9-4331-b0f9-80119849d73e",
   "metadata": {},
   "outputs": [
    {
     "data": {
      "text/plain": [
       "[81, 67, 83]"
      ]
     },
     "execution_count": 8,
     "metadata": {},
     "output_type": "execute_result"
    }
   ],
   "source": [
    "codigo = [lista_de_tuplas[i][2] for i in range(len(lista_de_tuplas))]\n",
    "codigo"
   ]
  },
  {
   "cell_type": "markdown",
   "id": "500406b1-abca-467b-8a7c-bfbb29e54785",
   "metadata": {},
   "source": [
    "3. A partir da lista: lista = ['Pedro', 'Júlia', 'Otávio', 'Eduardo'], crie um código para gerar uma lista de tuplas em que cada tupla tenha o primeiro elemento como a posição do nome na lista original e o segundo elemento sendo o próprio nome."
   ]
  },
  {
   "cell_type": "code",
   "execution_count": 9,
   "id": "a22dac9a-28f7-43d9-8509-7c749fab64e9",
   "metadata": {},
   "outputs": [],
   "source": [
    "lista = ['Pedro', 'Júlia', 'Otávio', 'Eduardo']"
   ]
  },
  {
   "cell_type": "code",
   "execution_count": 13,
   "id": "7e75cafa-b61c-4951-87f5-fa8e61070468",
   "metadata": {},
   "outputs": [
    {
     "data": {
      "text/plain": [
       "[(0, 'Pedro'), (1, 'Júlia'), (2, 'Otávio'), (3, 'Eduardo')]"
      ]
     },
     "execution_count": 13,
     "metadata": {},
     "output_type": "execute_result"
    }
   ],
   "source": [
    "tuplas = [(i, lista[i]) for i in range(len(lista))]\n",
    "tuplas"
   ]
  },
  {
   "cell_type": "markdown",
   "id": "747e6fab-eafc-4949-bf7f-60464a31d21e",
   "metadata": {},
   "source": [
    "4. Crie uma lista usando o list comprehension que armazena somente o valor numérico de cada tupla caso o primeiro elemento seja 'Apartamento', a partir da seguinte lista de tuplas:"
   ]
  },
  {
   "cell_type": "code",
   "execution_count": 15,
   "id": "c524d6a5-fdfb-436e-be7d-47ef646dd872",
   "metadata": {},
   "outputs": [],
   "source": [
    "aluguel = [('Apartamento', 1700), ('Apartamento', 1400), ('Casa', 2150), ('Apartamento', 1900), ('Casa', 1100)]"
   ]
  },
  {
   "cell_type": "code",
   "execution_count": 17,
   "id": "cbdccf44-495f-40ea-b5ed-626f673a9b1f",
   "metadata": {},
   "outputs": [
    {
     "data": {
      "text/plain": [
       "[1700, 1400, 1900]"
      ]
     },
     "execution_count": 17,
     "metadata": {},
     "output_type": "execute_result"
    }
   ],
   "source": [
    "lista = [preco for tipo,preco in aluguel if tipo == 'Apartamento']\n",
    "lista"
   ]
  },
  {
   "cell_type": "markdown",
   "id": "8f1050d1-596e-4878-a9f1-736ccca451e0",
   "metadata": {},
   "source": [
    "5. Crie um dicionário usando o dict comprehension em que as chaves estão na lista meses = ['Jan', 'Fev', 'Mar', 'Abr', 'Mai', 'Jun', 'Jul', 'Ago', 'Set', 'Out', 'Nov', 'Dez'] e os valores estão em despesa = [860, 490, 1010, 780, 900, 630, 590, 770, 620, 560, 840, 360]"
   ]
  },
  {
   "cell_type": "code",
   "execution_count": 18,
   "id": "6c3a3530-fee3-4331-a2e3-a230d569adcc",
   "metadata": {},
   "outputs": [],
   "source": [
    "meses = ['Jan', 'Fev', 'Mar', 'Abr', 'Mai', 'Jun', 'Jul', 'Ago', 'Set', 'Out', 'Nov', 'Dez']\n",
    "despesa = [860, 490, 1010, 780, 900, 630, 590, 770, 620, 560, 840, 360]"
   ]
  },
  {
   "cell_type": "code",
   "execution_count": 20,
   "id": "548f6a3e-ebc9-4fab-a826-761ea590aafe",
   "metadata": {},
   "outputs": [
    {
     "data": {
      "text/plain": [
       "{'Jan': 860,\n",
       " 'Fev': 490,\n",
       " 'Mar': 1010,\n",
       " 'Abr': 780,\n",
       " 'Mai': 900,\n",
       " 'Jun': 630,\n",
       " 'Jul': 590,\n",
       " 'Ago': 770,\n",
       " 'Set': 620,\n",
       " 'Out': 560,\n",
       " 'Nov': 840,\n",
       " 'Dez': 360}"
      ]
     },
     "execution_count": 20,
     "metadata": {},
     "output_type": "execute_result"
    }
   ],
   "source": [
    "dict = {meses:despesa for meses,despesa in zip(meses,despesa)}\n",
    "dict"
   ]
  },
  {
   "cell_type": "markdown",
   "id": "038b8690-0239-4b04-abc3-ee932e239adc",
   "metadata": {},
   "source": [
    "6. Uma loja possui um banco de dados com a informação de venda de cada representante e de cada ano e precisa filtrar somente os dados do ano 2022 com venda maior do que 6000. A loja forneceu uma amostra contendo apenas as colunas com os anos e os valores de venda para que você ajude a realizar a filtragem dos dados a partir de um código:"
   ]
  },
  {
   "cell_type": "markdown",
   "id": "06d4ac41-9f1b-4575-9b18-0dcaca1c9552",
   "metadata": {},
   "source": [
    "vendas = [('2023', 4093), ('2021', 4320), ('2021', 5959), ('2022', 8883), ('2023', 9859), ('2022', 5141), ('2022', 7688), ('2022', 9544), ('2023', 4794), ('2021', 7178), ('2022', 3030), ('2021', 7471), ('2022', 4226), ('2022', 8190), ('2021', 9680), ('2022', 5616)]"
   ]
  },
  {
   "cell_type": "markdown",
   "id": "70d62154-e72a-4c4f-a893-464a1dd8ce46",
   "metadata": {},
   "source": [
    "Crie uma lista usando list comprehension para filtrar os valores de 2022 e que sejam maiores que 6000."
   ]
  },
  {
   "cell_type": "code",
   "execution_count": 25,
   "id": "29e4ced0-2f90-4e24-819a-feee5bbcabcf",
   "metadata": {},
   "outputs": [],
   "source": [
    "vendas = [('2023', 4093), ('2021', 4320), ('2021', 5959), ('2022', 8883), ('2023', 9859), ('2022', 5141), ('2022', 7688), ('2022', 9544), ('2023', 4794), ('2021', 7178), ('2022', 3030), ('2021', 7471), ('2022', 4226), ('2022', 8190), ('2021', 9680), ('2022', 5616)]"
   ]
  },
  {
   "cell_type": "code",
   "execution_count": 28,
   "id": "8bf19881-ed98-445e-98ce-b7a0d6d31a61",
   "metadata": {},
   "outputs": [
    {
     "data": {
      "text/plain": [
       "[('2022', 8883), ('2022', 7688), ('2022', 9544), ('2022', 8190)]"
      ]
     },
     "execution_count": 28,
     "metadata": {},
     "output_type": "execute_result"
    }
   ],
   "source": [
    "lista = [ (ano,valor) for ano,valor in vendas if ano == '2022' and valor > 6000]\n",
    "lista"
   ]
  },
  {
   "cell_type": "markdown",
   "id": "7ee225da-60e0-4dbc-9f9d-3bf2ad621adf",
   "metadata": {},
   "source": [
    "7. Uma clínica analisa dados de pacientes e armazena o valor numérico da glicose em um banco de dados e gostaria de rotular os dados da seguinte maneira:\n",
    "\n",
    "- Glicose igual ou inferior a 70: 'Hipoglicemia'\n",
    "- Glicose entre 70 a 99: 'Normal'\n",
    "- Glicose entre 100 e 125: 'Alterada'\n",
    "- Glicose superior a 125: 'Diabetes'\n",
    "  \n",
    "A clínica disponibilizou parte dos valores e sua tarefa é criar uma lista de tuplas usando list comprehension contendo o rótulo e o valor da glicemia em cada tupla."
   ]
  },
  {
   "cell_type": "code",
   "execution_count": 29,
   "id": "301fd544-0b85-48f9-93e2-d385b17b8e85",
   "metadata": {},
   "outputs": [],
   "source": [
    "glicemia = [129, 82, 60, 97, 101, 65, 62, 167, 87, 53, 58, 92, 66, 120, 109, 62, 86, 96, 103, 88, 155, 52, 89, 73]"
   ]
  },
  {
   "cell_type": "code",
   "execution_count": 35,
   "id": "c746eff5-2b9d-4887-9da9-17e1b72e6015",
   "metadata": {},
   "outputs": [
    {
     "data": {
      "text/plain": [
       "[('Diabetes', 129),\n",
       " ('Normal', 82),\n",
       " ('Hipoglicemia', 60),\n",
       " ('Normal', 97),\n",
       " ('Alterada', 101),\n",
       " ('Hipoglicemia', 65),\n",
       " ('Hipoglicemia', 62),\n",
       " ('Diabetes', 167),\n",
       " ('Normal', 87),\n",
       " ('Hipoglicemia', 53),\n",
       " ('Hipoglicemia', 58),\n",
       " ('Normal', 92),\n",
       " ('Hipoglicemia', 66),\n",
       " ('Alterada', 120),\n",
       " ('Alterada', 109),\n",
       " ('Hipoglicemia', 62),\n",
       " ('Normal', 86),\n",
       " ('Normal', 96),\n",
       " ('Alterada', 103),\n",
       " ('Normal', 88),\n",
       " ('Diabetes', 155),\n",
       " ('Hipoglicemia', 52),\n",
       " ('Normal', 89),\n",
       " ('Normal', 73)]"
      ]
     },
     "execution_count": 35,
     "metadata": {},
     "output_type": "execute_result"
    }
   ],
   "source": [
    "status_glicemia = [('Hipoglicemia' if valor <= 70 \n",
    "                    else 'Normal' if 70 < valor < 100 \n",
    "                    else 'Alterada' if 100 <= valor <= 125 \n",
    "                    else 'Diabetes', valor) for valor in glicemia]\n",
    "status_glicemia"
   ]
  },
  {
   "cell_type": "markdown",
   "id": "760c8c6c-0262-4be3-a882-2f9c05ad3361",
   "metadata": {},
   "source": [
    "8. Um e-commerce possui as informações de id de venda, quantidade vendida e preço do produto divididos nas seguintes listas:"
   ]
  },
  {
   "cell_type": "code",
   "execution_count": 54,
   "id": "49c2b251-4382-4b16-8457-e5efccce191b",
   "metadata": {},
   "outputs": [],
   "source": [
    "id = [0, 1, 2, 3, 4, 5, 6, 7, 8, 9]\n",
    "quantidade = [15, 12, 1, 15, 2, 11, 2, 12, 2, 4]\n",
    "preco = [93.0, 102.0, 18.0, 41.0, 122.0, 14.0, 71.0, 48.0, 14.0, 144.0]"
   ]
  },
  {
   "cell_type": "markdown",
   "id": "3a6a45a2-be97-4c36-adb7-c2c57ba42a13",
   "metadata": {},
   "source": [
    "O e-commerce precisa estruturar esses dados em uma tabela contendo o valor total da venda, que é obtida multiplicando a quantidade pelo preço unitário. Além disso, a tabela precisa conter um cabeçalho indicando as colunas: 'id', 'quantidade', 'preco' e 'total'.\n",
    "\n",
    "Crie uma lista de tuplas em que cada tupla tenha id, quantidade, preço e valor total, na qual a primeira tupla é o cabeçalho da tabela."
   ]
  },
  {
   "cell_type": "code",
   "execution_count": 55,
   "id": "e945ef47-3aba-4fd6-821c-e9df843417b2",
   "metadata": {
    "scrolled": true
   },
   "outputs": [],
   "source": [
    "tabela = [('id', 'quantidade', 'preco', 'total')]\n",
    "tabela.extend([(id, quantidade, preco, quantidade*preco) for id, quantidade, preco in zip(id, quantidade, preco)])"
   ]
  },
  {
   "cell_type": "code",
   "execution_count": 56,
   "id": "8322e483-7637-4ea5-90e8-09faace681fa",
   "metadata": {},
   "outputs": [
    {
     "name": "stdout",
     "output_type": "stream",
     "text": [
      "[('id', 'quantidade', 'preco', 'total'), (0, 15, 93.0, 1395.0), (1, 12, 102.0, 1224.0), (2, 1, 18.0, 18.0), (3, 15, 41.0, 615.0), (4, 2, 122.0, 244.0), (5, 11, 14.0, 154.0), (6, 2, 71.0, 142.0), (7, 12, 48.0, 576.0), (8, 2, 14.0, 28.0), (9, 4, 144.0, 576.0)]\n"
     ]
    }
   ],
   "source": [
    "print(tabela)"
   ]
  },
  {
   "cell_type": "markdown",
   "id": "042c6026-53e9-4afc-bfa5-6256b60cd3c3",
   "metadata": {},
   "source": [
    "9. Uma empresa possui filiais espalhadas nos Estados da região Sudeste do Brasil. Em uma das tabelas de cadastro das filiais há uma coluna contendo a informação de qual é o Estado a que pertence: estados = ['SP', 'ES', 'MG', 'MG', 'SP', 'MG', 'ES', 'ES', 'ES', 'SP', 'SP', 'MG', 'ES', 'SP', 'RJ', 'MG', 'RJ', 'SP', 'MG', 'SP', 'ES', 'SP', 'MG'].\n",
    "\n",
    "A empresa sempre está abrindo novas filiais, de modo que a tabela está constantemente recebendo novos registros e o gestor gostaria de possuir a informação atualizada da quantidade de filiais em cada Estado.\n",
    "\n",
    "A partir da coluna com a informação dos Estados, crie um dicionário usando dict comprehension com a chave sendo o nome de um Estado e o valor sendo a contagem de vezes em que o Estado aparece na lista.\n",
    "\n",
    "Dica: Você pode fazer um passo intermediário para gerar uma lista de listas em que cada uma das listas possui o nome de apenas um Estado com valores repetidos."
   ]
  },
  {
   "cell_type": "code",
   "execution_count": 57,
   "id": "41764bdb-5e70-4988-ad0a-0b5836ccf525",
   "metadata": {},
   "outputs": [],
   "source": [
    "estados = ['SP', 'ES', 'MG', 'MG', 'SP', 'MG', 'ES', 'ES', 'ES', 'SP', 'SP', 'MG', 'ES', 'SP', 'RJ', 'MG', 'RJ', 'SP', 'MG', 'SP', 'ES', 'SP', 'MG']"
   ]
  },
  {
   "cell_type": "code",
   "execution_count": 59,
   "id": "a7f620e8-20d4-47c7-9718-dc0e4b6270cf",
   "metadata": {},
   "outputs": [
    {
     "data": {
      "text/plain": [
       "{'MG': 7, 'RJ': 2, 'SP': 8, 'ES': 6}"
      ]
     },
     "execution_count": 59,
     "metadata": {},
     "output_type": "execute_result"
    }
   ],
   "source": [
    "contagem_estados = {estado: estados.count(estado) for estado in set(estados)}\n",
    "contagem_estados"
   ]
  },
  {
   "cell_type": "markdown",
   "id": "19b84c99-0037-4ae0-8cb9-c24251752035",
   "metadata": {},
   "source": [
    "10. Nessa mesma tabela de cadastro de filiais, há uma coluna com as informações da quantidade de pessoas colaboradoras e o(a) gestor(a) gostaria de ter um agrupamento da soma dessas pessoas para cada estado. As informações contidas na tabela são:"
   ]
  },
  {
   "cell_type": "code",
   "execution_count": 40,
   "id": "b82815b9-452b-44be-bb94-312bdc153b91",
   "metadata": {},
   "outputs": [],
   "source": [
    "funcionarios = [('SP', 16), ('ES', 8), ('MG', 9), ('MG', 6), ('SP', 10), ('MG', 4), ('ES',9), ('ES', 7), ('ES', 12), ('SP', 7),\n",
    "                ('SP', 11), ('MG',8), ('ES',8), ('SP',9), \n",
    "                ('RJ', 13), ('MG', 5), ('RJ', 9), ('SP', 12), ('MG', 10), ('SP', 7), ('ES', 14), ('SP', 10), ('MG', 12)]"
   ]
  },
  {
   "cell_type": "markdown",
   "id": "392c2b03-2369-48e5-8053-def8138bb4b3",
   "metadata": {},
   "source": [
    "A partir da lista de tuplas, crie um dicionário em que as chaves são os nomes dos Estados únicos e os valores são as listas com o número de colaboradores(as) referentes ao Estado. Crie também um dicionário em que as chaves são os nomes dos Estados e os valores são a soma de colaboradores(as) por Estado."
   ]
  },
  {
   "cell_type": "markdown",
   "id": "37d7a878-3451-457f-a51a-52f730c86a48",
   "metadata": {},
   "source": [
    "Dica: Você pode fazer um passo intermediário para gerar uma lista de listas em que cada uma das listas possui apenas os valores numéricos de funcionários(as) de cada Estado."
   ]
  },
  {
   "cell_type": "code",
   "execution_count": 60,
   "id": "139f122a-27cb-4f63-b87d-da3131ddc3d7",
   "metadata": {
    "scrolled": true
   },
   "outputs": [
    {
     "data": {
      "text/plain": [
       "({'MG': [9, 6, 4, 8, 5, 10, 12],\n",
       "  'RJ': [13, 9],\n",
       "  'SP': [16, 10, 7, 11, 9, 12, 7, 10],\n",
       "  'ES': [8, 9, 7, 12, 8, 14]},\n",
       " {'MG': 54, 'RJ': 22, 'SP': 82, 'ES': 58})"
      ]
     },
     "execution_count": 60,
     "metadata": {},
     "output_type": "execute_result"
    }
   ],
   "source": [
    "# Criando um dicionário com listas de funcionários por estado\n",
    "funcionarios_por_estado = {estado: [num for est, num in funcionarios if est == estado] for estado in set(estado for estado, _ in funcionarios)}\n",
    "\n",
    "# Criando um dicionário com a soma de funcionários por estado\n",
    "soma_funcionarios_por_estado = {estado: sum(nums) for estado, nums in funcionarios_por_estado.items()}\n",
    "\n",
    "funcionarios_por_estado, soma_funcionarios_por_estado"
   ]
  }
 ],
 "metadata": {
  "kernelspec": {
   "display_name": "Python 3 (ipykernel)",
   "language": "python",
   "name": "python3"
  },
  "language_info": {
   "codemirror_mode": {
    "name": "ipython",
    "version": 3
   },
   "file_extension": ".py",
   "mimetype": "text/x-python",
   "name": "python",
   "nbconvert_exporter": "python",
   "pygments_lexer": "ipython3",
   "version": "3.12.1"
  }
 },
 "nbformat": 4,
 "nbformat_minor": 5
}

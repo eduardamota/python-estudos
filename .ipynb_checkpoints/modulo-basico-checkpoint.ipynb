{
 "cells": [
  {
   "cell_type": "markdown",
   "id": "5de5a7a9-d6b8-4e00-a674-57145cacbe2d",
   "metadata": {},
   "source": [
    "# Listas"
   ]
  },
  {
   "cell_type": "code",
   "execution_count": 34,
   "id": "fff6e01b-ab76-46c8-8dba-db3b03b2e026",
   "metadata": {},
   "outputs": [],
   "source": [
    "lista = ['Duda',8.0,7.0,9.5]"
   ]
  },
  {
   "cell_type": "code",
   "execution_count": 35,
   "id": "1f0c811e-33e6-4b49-8605-a4b8dcc9c3bf",
   "metadata": {},
   "outputs": [
    {
     "data": {
      "text/plain": [
       "9.5"
      ]
     },
     "execution_count": 35,
     "metadata": {},
     "output_type": "execute_result"
    }
   ],
   "source": [
    "lista[3]"
   ]
  },
  {
   "cell_type": "code",
   "execution_count": 36,
   "id": "cd810a49-c103-414c-b9b4-e99a5ced36d4",
   "metadata": {},
   "outputs": [
    {
     "data": {
      "text/plain": [
       "4"
      ]
     },
     "execution_count": 36,
     "metadata": {},
     "output_type": "execute_result"
    }
   ],
   "source": [
    "len(lista)"
   ]
  },
  {
   "cell_type": "code",
   "execution_count": 37,
   "id": "7c8ac97e-428a-4b76-bf12-0127a9f29beb",
   "metadata": {
    "scrolled": true
   },
   "outputs": [
    {
     "data": {
      "text/plain": [
       "[8.0, 7.0, 9.5]"
      ]
     },
     "execution_count": 37,
     "metadata": {},
     "output_type": "execute_result"
    }
   ],
   "source": [
    "lista[1:]"
   ]
  },
  {
   "cell_type": "code",
   "execution_count": 38,
   "id": "c5724739-38dc-47fe-86dd-64ef292312cd",
   "metadata": {},
   "outputs": [
    {
     "data": {
      "text/plain": [
       "['Duda', 8.0, 7.0, 9.5, 8.17]"
      ]
     },
     "execution_count": 38,
     "metadata": {},
     "output_type": "execute_result"
    }
   ],
   "source": [
    "import numpy as np\n",
    "lista.append(np.mean([8,7,9.5]).round(2))\n",
    "lista "
   ]
  },
  {
   "cell_type": "code",
   "execution_count": 39,
   "id": "32e158cd-8b3b-434c-8573-e154cf37b6f1",
   "metadata": {},
   "outputs": [],
   "source": [
    "raca_caes = ['Labrador Retriever',\n",
    "             'Bulldog Francês',\n",
    "             'Pastor Alemão',\n",
    "             'Poodle']\n"
   ]
  },
  {
   "cell_type": "code",
   "execution_count": 40,
   "id": "f5384476-844a-424b-83f9-78756f58574b",
   "metadata": {},
   "outputs": [
    {
     "data": {
      "text/plain": [
       "['Labrador Retriever',\n",
       " 'Golden Retriever',\n",
       " 'Bulldog Francês',\n",
       " 'Pastor Alemão',\n",
       " 'Poodle']"
      ]
     },
     "execution_count": 40,
     "metadata": {},
     "output_type": "execute_result"
    }
   ],
   "source": [
    "raca_caes.insert(1, 'Golden Retriever')\n",
    "raca_caes\n"
   ]
  },
  {
   "cell_type": "code",
   "execution_count": 42,
   "id": "c901f360-d78a-431d-812a-db92a25e39ff",
   "metadata": {},
   "outputs": [
    {
     "data": {
      "text/plain": [
       "{'matricula': 2000168933,\n",
       " 'dia_cadastro': 25,\n",
       " 'mes_cadastro': 10,\n",
       " 'turma': '2E'}"
      ]
     },
     "execution_count": 42,
     "metadata": {},
     "output_type": "execute_result"
    }
   ],
   "source": [
    "dados = {'matricula':2000168933, 'dia_cadastro': 25, 'mes_cadastro':10,'turma':'2E'}\n",
    "dados"
   ]
  },
  {
   "cell_type": "code",
   "execution_count": 44,
   "id": "094cee43-0847-4d55-9edf-ecbd5b2b09a0",
   "metadata": {},
   "outputs": [
    {
     "data": {
      "text/plain": [
       "'2E'"
      ]
     },
     "execution_count": 44,
     "metadata": {},
     "output_type": "execute_result"
    }
   ],
   "source": [
    "dados['turma']"
   ]
  },
  {
   "cell_type": "code",
   "execution_count": 46,
   "id": "10f20104-aaac-494a-897d-776ad65a983d",
   "metadata": {},
   "outputs": [
    {
     "data": {
      "text/plain": [
       "{'matricula': 2000168933,\n",
       " 'dia_cadastro': 25,\n",
       " 'mes_cadastro': 10,\n",
       " 'turma': '2E',\n",
       " 'modalidade': 'EAD'}"
      ]
     },
     "execution_count": 46,
     "metadata": {},
     "output_type": "execute_result"
    }
   ],
   "source": [
    "dados['modalidade'] = 'EAD'\n",
    "dados"
   ]
  },
  {
   "cell_type": "code",
   "execution_count": 47,
   "id": "5d77dbef-fa0d-482d-bf17-cacecc5dd74d",
   "metadata": {},
   "outputs": [
    {
     "data": {
      "text/plain": [
       "'2E'"
      ]
     },
     "execution_count": 47,
     "metadata": {},
     "output_type": "execute_result"
    }
   ],
   "source": [
    "dados.pop('turma')"
   ]
  },
  {
   "cell_type": "code",
   "execution_count": 48,
   "id": "998bd914-becb-400f-b019-96b35cc2ac0d",
   "metadata": {},
   "outputs": [
    {
     "data": {
      "text/plain": [
       "{'matricula': 2000168933,\n",
       " 'dia_cadastro': 25,\n",
       " 'mes_cadastro': 10,\n",
       " 'modalidade': 'EAD'}"
      ]
     },
     "execution_count": 48,
     "metadata": {},
     "output_type": "execute_result"
    }
   ],
   "source": [
    "dados"
   ]
  },
  {
   "cell_type": "code",
   "execution_count": 50,
   "id": "3df42665-2acf-4732-a786-efbe7a0fdd52",
   "metadata": {},
   "outputs": [
    {
     "data": {
      "text/plain": [
       "dict_items([('matricula', 2000168933), ('dia_cadastro', 25), ('mes_cadastro', 10), ('modalidade', 'EAD')])"
      ]
     },
     "execution_count": 50,
     "metadata": {},
     "output_type": "execute_result"
    }
   ],
   "source": [
    "dados.items()"
   ]
  },
  {
   "cell_type": "code",
   "execution_count": 51,
   "id": "19117667-e2d8-4237-8708-ae42f635dcff",
   "metadata": {},
   "outputs": [
    {
     "data": {
      "text/plain": [
       "dict_keys(['matricula', 'dia_cadastro', 'mes_cadastro', 'modalidade'])"
      ]
     },
     "execution_count": 51,
     "metadata": {},
     "output_type": "execute_result"
    }
   ],
   "source": [
    "dados.keys()"
   ]
  },
  {
   "cell_type": "code",
   "execution_count": 117,
   "id": "fb0ab00c-7165-4866-870e-0313365fb2a3",
   "metadata": {},
   "outputs": [
    {
     "name": "stdout",
     "output_type": "stream",
     "text": [
      "2000168933\n",
      "25\n",
      "10\n",
      "EAD\n"
     ]
    }
   ],
   "source": [
    "for i in dados.keys():\n",
    "    print(dados[i])\n",
    "    "
   ]
  },
  {
   "cell_type": "code",
   "execution_count": 57,
   "id": "c1630e3c-de2a-4d28-a6de-aecf85743c13",
   "metadata": {
    "scrolled": true
   },
   "outputs": [
    {
     "name": "stdout",
     "output_type": "stream",
     "text": [
      "2000168933\n",
      "25\n",
      "10\n",
      "EAD\n"
     ]
    }
   ],
   "source": [
    "for valor in dados.values():\n",
    "    print(valor)"
   ]
  },
  {
   "cell_type": "code",
   "execution_count": 63,
   "id": "936265fe-122b-4cc9-a9f1-c4efc83a16a0",
   "metadata": {},
   "outputs": [
    {
     "name": "stdout",
     "output_type": "stream",
     "text": [
      "matricula 2000168933\n",
      "dia_cadastro 25\n",
      "mes_cadastro 10\n",
      "modalidade EAD\n"
     ]
    }
   ],
   "source": [
    "for chave,valor in dados.items():\n",
    "    print(chave,valor)"
   ]
  },
  {
   "cell_type": "code",
   "execution_count": 64,
   "id": "e0340330-3d70-49f4-94cc-46d52c60442f",
   "metadata": {},
   "outputs": [],
   "source": [
    "loja = {'nomes': ['televisão', 'celular', 'notebook', 'geladeira', 'fogão'],\n",
    "        'precos': [2000, 1500, 3500, 4000, 1500]}\n"
   ]
  },
  {
   "cell_type": "code",
   "execution_count": 65,
   "id": "c000ab23-204a-4c9e-aa7f-3eb306b90fb2",
   "metadata": {},
   "outputs": [
    {
     "name": "stdout",
     "output_type": "stream",
     "text": [
      "Chave: nomes\n",
      "Elementos:\n",
      "televisão\n",
      "celular\n",
      "notebook\n",
      "geladeira\n",
      "fogão\n",
      "Chave: precos\n",
      "Elementos:\n",
      "2000\n",
      "1500\n",
      "3500\n",
      "4000\n",
      "1500\n"
     ]
    }
   ],
   "source": [
    "for chave, elementos in loja.items():\n",
    "  print(f'Chave: {chave}\\nElementos:')\n",
    "  for dado in elementos:\n",
    "    print(dado)\n"
   ]
  },
  {
   "cell_type": "markdown",
   "id": "2cdac2a8-7186-4972-9e93-1b419b2269ed",
   "metadata": {},
   "source": [
    "## Aquecendo na programação"
   ]
  },
  {
   "cell_type": "markdown",
   "id": "7e4fed12-ac84-4493-837a-57bf13d4b500",
   "metadata": {},
   "source": [
    "1) Faça um programa que tenha a seguinte lista contendo os valores de gastos de uma empresa de papel [2172.54, 3701.35, 3518.09, 3456.61, 3249.38, 2840.82, 3891.45, 3075.26, 2317.64, 3219.08]. Com esses valores, faça um programa que calcule a média de gastos. Dica: use as funções built-in sum() e len()."
   ]
  },
  {
   "cell_type": "code",
   "execution_count": 69,
   "id": "d1443559-143c-4af1-ae05-78fbd6c3ea53",
   "metadata": {},
   "outputs": [
    {
     "name": "stdout",
     "output_type": "stream",
     "text": [
      "3144.22\n"
     ]
    }
   ],
   "source": [
    "gastos = [2172.54, 3701.35, 3518.09, 3456.61, 3249.38, 2840.82, 3891.45, 3075.26, 2317.64, 3219.08]\n",
    "media = sum(gastos)/len(gastos)\n",
    "print(f\"{media:.2f}\")"
   ]
  },
  {
   "cell_type": "markdown",
   "id": "4c888b18-a930-4cf3-ba0a-5414cdad791a",
   "metadata": {},
   "source": [
    "2) Com os mesmos dados da questão anterior, defina quantas compras foram realizadas acima de 3000 reais e calcule a porcentagem quanto ao total de compras."
   ]
  },
  {
   "cell_type": "code",
   "execution_count": 88,
   "id": "984d5206-39ce-4e34-869f-c25fde677ef5",
   "metadata": {},
   "outputs": [
    {
     "name": "stdout",
     "output_type": "stream",
     "text": [
      "Número de compras acima de 3000 reais foi de 7. A porcentagem total foi 70%.\n"
     ]
    }
   ],
   "source": [
    "contador = 0\n",
    "for x in gastos:\n",
    "    if x > 3000:\n",
    "        contador += 1\n",
    "print(f\"Número de compras acima de 3000 reais foi de {contador}. A porcentagem total foi {(contador/len(gastos))*100:.0f}%.\")"
   ]
  },
  {
   "cell_type": "markdown",
   "id": "3529dbe4-ea5b-4b60-b583-d8663f214152",
   "metadata": {},
   "source": [
    "3) Faça um código que colete em uma lista 5 números inteiros quaisquer e imprima a lista. Exemplo: [1,4,7,2,4]."
   ]
  },
  {
   "cell_type": "code",
   "execution_count": 91,
   "id": "edb69ab7-6061-41c6-bdb4-8d7761109b84",
   "metadata": {},
   "outputs": [
    {
     "name": "stdin",
     "output_type": "stream",
     "text": [
      "Digite um número inteiro:  1\n",
      "Digite um número inteiro:  4\n",
      "Digite um número inteiro:  7\n",
      "Digite um número inteiro:  2\n",
      "Digite um número inteiro:  4\n"
     ]
    },
    {
     "name": "stdout",
     "output_type": "stream",
     "text": [
      "Lista completa: [1, 4, 7, 2, 4]\n"
     ]
    }
   ],
   "source": [
    "lista = []\n",
    "i = 0\n",
    "while i < 5:  \n",
    "    numero = int(input(\"Digite um número inteiro: \"))  \n",
    "    lista.append(numero)\n",
    "    i += 1 \n",
    "\n",
    "print(\"Lista completa:\", lista)"
   ]
  },
  {
   "cell_type": "markdown",
   "id": "b0d96ae4-0451-4c6c-b4f5-9de4a5f96a84",
   "metadata": {},
   "source": [
    "4) Colete novamente 5 inteiros e imprima a lista em ordem inversa à enviada."
   ]
  },
  {
   "cell_type": "code",
   "execution_count": 98,
   "id": "610fa369-020d-442a-9775-3c3e3d162586",
   "metadata": {},
   "outputs": [
    {
     "name": "stdin",
     "output_type": "stream",
     "text": [
      "Digite um número inteiro:  1\n",
      "Digite um número inteiro:  4\n",
      "Digite um número inteiro:  7\n",
      "Digite um número inteiro:  2\n",
      "Digite um número inteiro:  4\n"
     ]
    },
    {
     "name": "stdout",
     "output_type": "stream",
     "text": [
      "Lista completa: [4, 2, 7, 4, 1]\n"
     ]
    }
   ],
   "source": [
    "lista = []\n",
    "i = 0\n",
    "while i < 5:  \n",
    "    numero = int(input(\"Digite um número inteiro: \"))  \n",
    "    lista.append(numero)\n",
    "    i += 1 \n",
    "lista.reverse()\n",
    "print(\"Lista completa:\", lista)"
   ]
  },
  {
   "cell_type": "markdown",
   "id": "b4c2b113-0da8-47d0-a521-bbf5eece11c8",
   "metadata": {},
   "source": [
    "5) Faça um programa que, ao inserir um número qualquer, cria uma lista contendo todos os números primos entre 1 e o número digitado."
   ]
  },
  {
   "cell_type": "code",
   "execution_count": 111,
   "id": "7b88b48c-0b99-432d-8977-54f99b22e6de",
   "metadata": {},
   "outputs": [
    {
     "name": "stdin",
     "output_type": "stream",
     "text": [
      "Digite um número:  1\n"
     ]
    },
    {
     "name": "stdout",
     "output_type": "stream",
     "text": [
      "Números primos entre 1 e 1 são: []\n"
     ]
    }
   ],
   "source": [
    "numero = int(input(\"Digite um número: \"))\n",
    "lista_primos = []\n",
    "\n",
    "for num in range(2, numero + 1):\n",
    "    primo = True\n",
    "    for i in range(2, int(num ** 0.5) + 1):\n",
    "        if num % i == 0:\n",
    "            primo = False\n",
    "            break\n",
    "    if primo:\n",
    "        lista_primos.append(num)\n",
    "\n",
    "print(\"Números primos entre 1 e\", numero, \"são:\", lista_primos)\n"
   ]
  },
  {
   "cell_type": "markdown",
   "id": "8d564b84-0794-45bd-bebf-7752446ad338",
   "metadata": {},
   "source": [
    "6) Escreva um programa que peça uma data informando o dia, mês e ano e determine se ela é válida para uma análise."
   ]
  },
  {
   "cell_type": "code",
   "execution_count": 113,
   "id": "b01d68ea-552d-47bc-979e-2e0dd96cb251",
   "metadata": {},
   "outputs": [
    {
     "name": "stdin",
     "output_type": "stream",
     "text": [
      "Digite o dia 2\n",
      "Digite o mês 2\n",
      "Digite o ano 2022\n"
     ]
    },
    {
     "name": "stdout",
     "output_type": "stream",
     "text": [
      "Correto!\n",
      "Correto!\n",
      "Correto!\n"
     ]
    }
   ],
   "source": [
    "dia = input(\"Digite o dia\")\n",
    "mes = input(\"Digite o mês\")\n",
    "ano = input(\"Digite o ano\")\n",
    "if len(dia) > 2:\n",
    "    print (\"Ano está incorreto\")\n",
    "else:\n",
    "    print(\"Correto!\")\n",
    "if len(mes) > 2:\n",
    "    print (\"Ano está incorreto\")\n",
    "else:\n",
    "    print(\"Correto!\")\n",
    "if len(ano) < 4:\n",
    "    print (\"Ano está incorreto\")\n",
    "else:\n",
    "    print(\"Correto!\")"
   ]
  },
  {
   "cell_type": "markdown",
   "id": "682f9fad-3d29-442e-a280-0fc93f27d870",
   "metadata": {},
   "source": [
    "7) Para um estudo envolvendo o nível de multiplicação de bactérias em uma colônia, foi coletado o número de bactérias por dia (em milhares) e pode ser observado a seguir: [1.2, 2.1, 3.3, 5.0, 7.8, 11.3, 16.6, 25.1, 37.8, 56.9]. Tendo esses valores, faça um código que gere uma lista contendo o percentual de crescimento de bactérias por dia, comparando o número de bactérias em cada dia com o número de bactérias do dia anterior. Dica: para calcular o percentual de crescimento usamos a seguinte equação: 100 * (amostra_atual - amostra_passada) / (amostra_passada)."
   ]
  },
  {
   "cell_type": "code",
   "execution_count": 128,
   "id": "599ebc71-aa4a-4c94-a02b-081d20daecd3",
   "metadata": {},
   "outputs": [
    {
     "name": "stdout",
     "output_type": "stream",
     "text": [
      "[75.0, 57.14, 51.52, 56.0, 44.87, 46.9, 51.2, 50.6, 50.53]\n"
     ]
    }
   ],
   "source": [
    "lista =  [1.2, 2.1, 3.3, 5.0, 7.8, 11.3, 16.6, 25.1, 37.8, 56.9]\n",
    "crescimento = []\n",
    "for i in range(1,len(lista)):\n",
    "    percentual = (100 * (lista[i] - lista[i - 1]) / lista[i - 1])\n",
    "    crescimento.append(round(percentual,2))\n",
    "print(crescimento)"
   ]
  },
  {
   "cell_type": "markdown",
   "id": "277e9b69-75b9-4979-93a2-5676166ea0b3",
   "metadata": {},
   "source": [
    "8) Para uma seleção de produtos alimentícios, precisamos separar o conjunto de IDs dados por números inteiros sabendo que os produtos com ID par são doces e os com ID ímpar são amargos. Monte um código que colete 10 IDs. Depois, calcule e mostre a quantidade de produtos doces e amargos."
   ]
  },
  {
   "cell_type": "code",
   "execution_count": 139,
   "id": "1de12baa-9a99-41a0-b3ef-7c549d7d89c6",
   "metadata": {},
   "outputs": [
    {
     "name": "stdin",
     "output_type": "stream",
     "text": [
      "Digite o id do produto 5\n",
      "Digite o id do produto 10\n",
      "Digite o id do produto 15\n",
      "Digite o id do produto 20\n",
      "Digite o id do produto 25\n",
      "Digite o id do produto 30\n",
      "Digite o id do produto 35\n",
      "Digite o id do produto 40\n",
      "Digite o id do produto 45\n",
      "Digite o id do produto 50\n"
     ]
    },
    {
     "name": "stdout",
     "output_type": "stream",
     "text": [
      "Esse é o volume de produtos doces 5 e essa a quantidade de amargos 5\n"
     ]
    }
   ],
   "source": [
    "contador = 0\n",
    "id = []\n",
    "amargo = []\n",
    "doce = []\n",
    "while contador < 10:\n",
    "    cod_produto = int(input(\"Digite o id do produto\"))\n",
    "    id.append(cod_produto)\n",
    "    contador+=1\n",
    "    if cod_produto % 2 == 0:\n",
    "        doce.append(cod_produto)\n",
    "    else:\n",
    "        amargo.append(cod_produto)\n",
    "print(f\"Esse é o volume de produtos doces {len(doce)} e essa a quantidade de amargos {len(amargo)}\")\n",
    "    "
   ]
  },
  {
   "cell_type": "code",
   "execution_count": 140,
   "id": "4fa9e373-44b7-4605-94fb-7ef2253c9303",
   "metadata": {},
   "outputs": [
    {
     "name": "stdin",
     "output_type": "stream",
     "text": [
      "Digite o id do produto 1 3\n",
      "Digite o id do produto 2 6\n",
      "Digite o id do produto 3 9\n",
      "Digite o id do produto 4 12\n",
      "Digite o id do produto 5 15\n",
      "Digite o id do produto 6 18\n",
      "Digite o id do produto 7 21\n",
      "Digite o id do produto 8 24\n",
      "Digite o id do produto 9 27\n",
      "Digite o id do produto 10 30\n"
     ]
    },
    {
     "name": "stdout",
     "output_type": "stream",
     "text": [
      "Quantidade de produtos doces: 5\n",
      "Quantidade de produtos amargos: 5\n"
     ]
    }
   ],
   "source": [
    "doces =0\n",
    "amargos = 0\n",
    "\n",
    "for i in range(10):\n",
    "    cod_produto = int(input(f\"Digite o id do produto {i+1}\"))\n",
    "    if cod_produto % 2 == 0:\n",
    "        doces +=1\n",
    "    else:\n",
    "        amargos += 1\n",
    "print(f\"Quantidade de produtos doces: {doces}\")\n",
    "print(f\"Quantidade de produtos amargos: {amargos}\")        "
   ]
  },
  {
   "cell_type": "markdown",
   "id": "469693fc-c8a5-4925-8987-3828107c3882",
   "metadata": {},
   "source": [
    "9) Desenvolva um programa que informa a nota de um(a) aluno(a) de acordo com suas respostas. Ele deve pedir a resposta desse(a) aluno(a) para cada questão e é preciso verificar se a resposta foi igual ao gabarito. Cada questão vale um ponto e existem as alternativas A, B, C ou D."
   ]
  },
  {
   "cell_type": "code",
   "execution_count": 142,
   "id": "475cafa5-1263-4ef3-992f-81928181908b",
   "metadata": {},
   "outputs": [
    {
     "name": "stdin",
     "output_type": "stream",
     "text": [
      "Digite a respota da questão 0: \n",
      "Lembre-se que as alternativas possíveis são A,B,C,D A\n",
      "Digite a respota da questão 1: \n",
      "Lembre-se que as alternativas possíveis são A,B,C,D A\n",
      "Digite a respota da questão 2: \n",
      "Lembre-se que as alternativas possíveis são A,B,C,D C\n",
      "Digite a respota da questão 3: \n",
      "Lembre-se que as alternativas possíveis são A,B,C,D B\n",
      "Digite a respota da questão 4: \n",
      "Lembre-se que as alternativas possíveis são A,B,C,D A\n",
      "Digite a respota da questão 5: \n",
      "Lembre-se que as alternativas possíveis são A,B,C,D D\n",
      "Digite a respota da questão 6: \n",
      "Lembre-se que as alternativas possíveis são A,B,C,D D\n",
      "Digite a respota da questão 7: \n",
      "Lembre-se que as alternativas possíveis são A,B,C,D C\n",
      "Digite a respota da questão 8: \n",
      "Lembre-se que as alternativas possíveis são A,B,C,D C\n",
      "Digite a respota da questão 9: \n",
      "Lembre-se que as alternativas possíveis são A,B,C,D A\n"
     ]
    },
    {
     "name": "stdout",
     "output_type": "stream",
     "text": [
      "Essa foi a nota do aluno 6\n"
     ]
    }
   ],
   "source": [
    "gabarito = ['D', 'A', 'C', 'B', 'A', 'D', 'C', 'C', 'A', 'B']\n",
    "respostas_aluno = []\n",
    "for i in range(10):\n",
    "    resposta = input(f\"Digite a respota da questão {i}: \\nLembre-se que as alternativas possíveis são A,B,C,D\").upper()\n",
    "    respostas_aluno.append(resposta)\n",
    "nota = 0\n",
    "for i in range(10):\n",
    "     if respostas_aluno[i] == gabarito[i]:\n",
    "        nota += 1\n",
    "print(f\"Essa foi a nota do aluno {nota}\")\n",
    "    "
   ]
  },
  {
   "cell_type": "markdown",
   "id": "8609f010-c97e-4aa8-97c7-8eab439a487f",
   "metadata": {},
   "source": [
    "10) Um instituto de meteorologia deseja fazer um estudo de temperatura média de cada mês do ano. Para isso, você precisa fazer um código que colete e armazene essas temperaturas médias em uma lista. Depois, calcule a média anual das temperaturas e mostre todas as temperaturas acima da média anual e em que mês elas ocorreram, mostrando os meses por extenso (Janeiro, Fevereiro, etc.)."
   ]
  },
  {
   "cell_type": "code",
   "execution_count": 146,
   "id": "88dd408e-3f97-4223-9a16-d97c2481e741",
   "metadata": {},
   "outputs": [
    {
     "name": "stdin",
     "output_type": "stream",
     "text": [
      "Digite a temperatura do mês 1 2\n"
     ]
    },
    {
     "name": "stdout",
     "output_type": "stream",
     "text": [
      "Mês 1 a temperatura foi de 2\n"
     ]
    },
    {
     "name": "stdin",
     "output_type": "stream",
     "text": [
      "Digite a temperatura do mês 2 3\n"
     ]
    },
    {
     "name": "stdout",
     "output_type": "stream",
     "text": [
      "Mês 2 a temperatura foi de 3\n"
     ]
    },
    {
     "name": "stdin",
     "output_type": "stream",
     "text": [
      "Digite a temperatura do mês 3 23\n"
     ]
    },
    {
     "name": "stdout",
     "output_type": "stream",
     "text": [
      "Mês 3 a temperatura foi de 23\n"
     ]
    },
    {
     "name": "stdin",
     "output_type": "stream",
     "text": [
      "Digite a temperatura do mês 4 65\n"
     ]
    },
    {
     "name": "stdout",
     "output_type": "stream",
     "text": [
      "Mês 4 a temperatura foi de 65\n"
     ]
    },
    {
     "name": "stdin",
     "output_type": "stream",
     "text": [
      "Digite a temperatura do mês 5 454\n"
     ]
    },
    {
     "name": "stdout",
     "output_type": "stream",
     "text": [
      "Mês 5 a temperatura foi de 454\n"
     ]
    },
    {
     "name": "stdin",
     "output_type": "stream",
     "text": [
      "Digite a temperatura do mês 6 655\n"
     ]
    },
    {
     "name": "stdout",
     "output_type": "stream",
     "text": [
      "Mês 6 a temperatura foi de 655\n"
     ]
    },
    {
     "name": "stdin",
     "output_type": "stream",
     "text": [
      "Digite a temperatura do mês 7 515\n"
     ]
    },
    {
     "name": "stdout",
     "output_type": "stream",
     "text": [
      "Mês 7 a temperatura foi de 515\n"
     ]
    },
    {
     "name": "stdin",
     "output_type": "stream",
     "text": [
      "Digite a temperatura do mês 8 55\n"
     ]
    },
    {
     "name": "stdout",
     "output_type": "stream",
     "text": [
      "Mês 8 a temperatura foi de 55\n"
     ]
    },
    {
     "name": "stdin",
     "output_type": "stream",
     "text": [
      "Digite a temperatura do mês 9 55\n"
     ]
    },
    {
     "name": "stdout",
     "output_type": "stream",
     "text": [
      "Mês 9 a temperatura foi de 55\n"
     ]
    },
    {
     "name": "stdin",
     "output_type": "stream",
     "text": [
      "Digite a temperatura do mês 10 55\n"
     ]
    },
    {
     "name": "stdout",
     "output_type": "stream",
     "text": [
      "Mês 10 a temperatura foi de 55\n"
     ]
    },
    {
     "name": "stdin",
     "output_type": "stream",
     "text": [
      "Digite a temperatura do mês 11 25\n"
     ]
    },
    {
     "name": "stdout",
     "output_type": "stream",
     "text": [
      "Mês 11 a temperatura foi de 25\n"
     ]
    },
    {
     "name": "stdin",
     "output_type": "stream",
     "text": [
      "Digite a temperatura do mês 12 5\n"
     ]
    },
    {
     "name": "stdout",
     "output_type": "stream",
     "text": [
      "Mês 12 a temperatura foi de 5\n",
      "A média anual foi de 159.33333333333334\n"
     ]
    }
   ],
   "source": [
    "temperaturas = []\n",
    "for i in range(1,13):\n",
    "    temp_mes = int(input(f\"Digite a temperatura do mês {i}\"))\n",
    "    temperaturas.append(temp_mes)\n",
    "    print(f\"Mês {i} a temperatura foi de {temp_mes}\")\n",
    "print(f\"A média anual foi de {sum(temperaturas)/12}\")"
   ]
  },
  {
   "cell_type": "code",
   "execution_count": 148,
   "id": "8fc0dca2-b787-409c-a00e-0445002f4895",
   "metadata": {},
   "outputs": [
    {
     "name": "stdin",
     "output_type": "stream",
     "text": [
      "Digite a temperatura média do mês de Janeiro:  25\n",
      "Digite a temperatura média do mês de Fevereiro:  15\n",
      "Digite a temperatura média do mês de Março:  32\n",
      "Digite a temperatura média do mês de Abril:  30\n",
      "Digite a temperatura média do mês de Maio:  41\n",
      "Digite a temperatura média do mês de Junho:  12\n",
      "Digite a temperatura média do mês de Julho:  8\n",
      "Digite a temperatura média do mês de Agosto:  11\n",
      "Digite a temperatura média do mês de Setembro:  20\n",
      "Digite a temperatura média do mês de Outubro:  35\n",
      "Digite a temperatura média do mês de Novembro:  32\n",
      "Digite a temperatura média do mês de Dezembro:  42\n"
     ]
    },
    {
     "name": "stdout",
     "output_type": "stream",
     "text": [
      "Temperaturas acima da média anual:\n",
      "Março: 32°C\n",
      "Abril: 30°C\n",
      "Maio: 41°C\n",
      "Outubro: 35°C\n",
      "Novembro: 32°C\n",
      "Dezembro: 42°C\n",
      "A média anual foi de 25.25°C\n"
     ]
    }
   ],
   "source": [
    "meses = ['Janeiro', 'Fevereiro', 'Março', 'Abril', 'Maio', 'Junho', 'Julho', 'Agosto', 'Setembro', 'Outubro', 'Novembro', 'Dezembro']\n",
    "temperaturas = []\n",
    "media_anual = 0\n",
    "\n",
    "for i in range(12):\n",
    "    temp_mes = int(input(f\"Digite a temperatura média do mês de {meses[i]}: \"))\n",
    "    temperaturas.append(temp_mes)\n",
    "    media_anual += temp_mes\n",
    "\n",
    "media_anual /= 12  \n",
    "\n",
    "print(\"Temperaturas acima da média anual:\")\n",
    "for i in range(12):\n",
    "    if temperaturas[i] > media_anual:\n",
    "        print(f\"{meses[i]}: {temperaturas[i]}°C\")\n",
    "        \n",
    "print(f\"A média anual foi de {media_anual:.2f}°C\")\n"
   ]
  },
  {
   "cell_type": "code",
   "execution_count": null,
   "id": "509f2783-6a26-4e06-b18c-c5f9cbc35ed7",
   "metadata": {},
   "outputs": [],
   "source": []
  }
 ],
 "metadata": {
  "kernelspec": {
   "display_name": "Python 3 (ipykernel)",
   "language": "python",
   "name": "python3"
  },
  "language_info": {
   "codemirror_mode": {
    "name": "ipython",
    "version": 3
   },
   "file_extension": ".py",
   "mimetype": "text/x-python",
   "name": "python",
   "nbconvert_exporter": "python",
   "pygments_lexer": "ipython3",
   "version": "3.12.1"
  }
 },
 "nbformat": 4,
 "nbformat_minor": 5
}
